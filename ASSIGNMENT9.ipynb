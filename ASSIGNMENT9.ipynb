{
 "cells": [
  {
   "cell_type": "code",
   "execution_count": 4,
   "id": "946f5f9d-e752-49a2-a65b-9e3190ac20f5",
   "metadata": {},
   "outputs": [
    {
     "name": "stdout",
     "output_type": "stream",
     "text": [
      "True\n",
      "True\n",
      "True\n",
      "True\n"
     ]
    }
   ],
   "source": [
    "### 1. Write a Python program to check if the given number is a Disarium Number?\n",
    "def is_disarium_number(num):\n",
    "    \n",
    "    num_str = str(num)\n",
    "    n = len(num_str)\n",
    "    \n",
    "    sum_of_digits = sum(int(num_str[i])**(i+1) for i in range(n))\n",
    "                        \n",
    "    return sum_of_digits == num\n",
    "    \n",
    "                        \n",
    "print(is_disarium_number(175))    \n",
    "print(is_disarium_number(89))     \n",
    "print(is_disarium_number(518)) \n",
    "print(is_disarium_number(135))"
   ]
  },
  {
   "cell_type": "code",
   "execution_count": 7,
   "id": "b2ddf9cd-1679-4e81-afa0-e8c909e668a0",
   "metadata": {},
   "outputs": [
    {
     "name": "stdout",
     "output_type": "stream",
     "text": [
      "disarium no. between 1 and 100\n",
      "[1, 2, 3, 4, 5, 6, 7, 8, 9, 89]\n"
     ]
    }
   ],
   "source": [
    "### 2. Write a Python program to print all disarium numbers between 1 to 100?\n",
    "def is_disarium_numbers(num):\n",
    "    \n",
    "    num_str = str(num)\n",
    "    n = len(num_str)\n",
    "    \n",
    "    sum_of_digits = sum(int(num_str[i])**(i+1) for i in range(n))\n",
    "    \n",
    "    return sum_of_digits == num\n",
    "\n",
    "disarium_numbers = []\n",
    "for i in range(1, 101):\n",
    "    if is_disarium_numbers(i):\n",
    "        disarium_numbers.append(i)\n",
    "        \n",
    "print(\"disarium no. between 1 and 100\")\n",
    "print(disarium_numbers)"
   ]
  },
  {
   "cell_type": "code",
   "execution_count": 16,
   "id": "2d91ffbf-cd53-47ac-ab7c-080f7a20c247",
   "metadata": {},
   "outputs": [
    {
     "name": "stdout",
     "output_type": "stream",
     "text": [
      "True\n",
      "True\n",
      "True\n",
      "True\n"
     ]
    }
   ],
   "source": [
    "### 3. Write a Python program to check if the given number is Happy Number?\n",
    "def is_happy_number(num):\n",
    "    \n",
    "    seen = set()\n",
    "    \n",
    "    while num  != 1:\n",
    "        num = sum(int(digit)**2 for digit in str(num))\n",
    "        \n",
    "        \n",
    "        if num in seen:\n",
    "            return False\n",
    "        seen.add(num)\n",
    "        \n",
    "        return True\n",
    "    \n",
    "print(is_happy_number(19))\n",
    "print(is_happy_number(20))\n",
    "print(is_happy_number(7))\n",
    "print(is_happy_number(4))"
   ]
  },
  {
   "cell_type": "code",
   "execution_count": 20,
   "id": "520ebe77-3a34-46a6-8ea8-da6df28efe37",
   "metadata": {},
   "outputs": [
    {
     "name": "stdout",
     "output_type": "stream",
     "text": [
      "1 7 10 13 19 23 28 31 32 44 49 68 70 79 82 86 91 94 97 100 "
     ]
    }
   ],
   "source": [
    "### 4. Write a Python program to print all happy numbers between 1 and 100?\n",
    "\n",
    "def is_happy_numbers(num):\n",
    "    \n",
    "    seen = set()\n",
    "    \n",
    "    while num != 1:\n",
    "        num=sum(int(digit)**2 for digit in str(num))\n",
    "        if num in seen:\n",
    "            return False\n",
    "        seen.add(num)\n",
    "        \n",
    "    return True\n",
    "    \n",
    "    \n",
    "for i in range(1, 101):\n",
    "    if is_happy_numbers(i):\n",
    "        print(i, end =' ')\n",
    "    \n",
    "    "
   ]
  },
  {
   "cell_type": "code",
   "execution_count": 18,
   "id": "b51204da-3600-46da-9041-e99b81b94656",
   "metadata": {},
   "outputs": [
    {
     "name": "stdout",
     "output_type": "stream",
     "text": [
      "1 7 10 13 19 23 28 31 32 44 49 68 70 79 82 86 91 94 97 100 "
     ]
    }
   ],
   "source": [
    "# Function to check if a number is a happy number\n",
    "def is_happy_number(num):\n",
    "    # Initialize a set to keep track of seen numbers\n",
    "    seen = set()\n",
    "    \n",
    "    # Loop until the number converges to 1 or a cycle is detected\n",
    "    while num != 1:\n",
    "        # Compute the sum of squares of digits\n",
    "        num = sum(int(digit)**2 for digit in str(num))\n",
    "        \n",
    "        # If the number is already seen, it's in a cycle and not a happy number\n",
    "        if num in seen:\n",
    "            return False\n",
    "        \n",
    "        # Add the number to the seen set\n",
    "        seen.add(num)\n",
    "    \n",
    "    # If the loop terminates at 1, it's a happy number\n",
    "    return True\n",
    "\n",
    "# Loop through the numbers between 1 and 100\n",
    "for i in range(1, 101):\n",
    "    # Check if the number is a happy number\n",
    "    if is_happy_number(i):\n",
    "        print(i, end=' ')\n",
    "\n",
    "\n",
    "\n",
    "\n"
   ]
  },
  {
   "cell_type": "code",
   "execution_count": null,
   "id": "46b58539-dc9f-48e8-b952-f3db375f383a",
   "metadata": {},
   "outputs": [],
   "source": [
    "### 5. Write a Python program to determine whether the given number is a Harshad Number?\n",
    "def is_harshad_number(num):\n",
    "    \n",
    "    digit_sum = sum(int(digit) for digit in str(num))\n",
    "    \n",
    "    return num % digit_sum == 0\n",
    "\n",
    "\n",
    "num = int(input(\"enter the number\"))\n",
    "if is_harshad_number(num):\n",
    "        print(num, \"is a harshad number\")\n",
    "        \n",
    "else:\n",
    "    print(num, \"is not a harshad number\")"
   ]
  }
 ],
 "metadata": {
  "kernelspec": {
   "display_name": "Python 3 (ipykernel)",
   "language": "python",
   "name": "python3"
  },
  "language_info": {
   "codemirror_mode": {
    "name": "ipython",
    "version": 3
   },
   "file_extension": ".py",
   "mimetype": "text/x-python",
   "name": "python",
   "nbconvert_exporter": "python",
   "pygments_lexer": "ipython3",
   "version": "3.10.6"
  }
 },
 "nbformat": 4,
 "nbformat_minor": 5
}
